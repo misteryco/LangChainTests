{
 "cells": [
  {
   "cell_type": "markdown",
   "source": [
    "# Chains in LangChain\n",
    "\n",
    "## Outline\n",
    "\n",
    "* LLMChain\n",
    "* Sequential Chains\n",
    "  * SimpleSequentialChain\n",
    "  * SequentialChain\n",
    "* Router Chain"
   ],
   "metadata": {
    "collapsed": false
   },
   "id": "b20c7c0308e710c5"
  },
  {
   "cell_type": "code",
   "execution_count": 24,
   "outputs": [],
   "source": [
    "import datetime\n",
    "import os\n",
    "\n",
    "import openai\n",
    "from dotenv import load_dotenv, find_dotenv\n",
    "import warnings\n",
    "import pandas as pd\n",
    "\n",
    "from langchain.chat_models import ChatOpenAI\n",
    "from langchain.prompts import ChatPromptTemplate\n",
    "from langchain.chains import LLMChain\n",
    "from langchain.chains import SimpleSequentialChain"
   ],
   "metadata": {
    "collapsed": false,
    "ExecuteTime": {
     "end_time": "2023-11-24T12:18:52.096641318Z",
     "start_time": "2023-11-24T12:18:52.082959181Z"
    }
   },
   "id": "11ecce1fbbfbaa3a"
  },
  {
   "cell_type": "code",
   "execution_count": 29,
   "outputs": [],
   "source": [
    "_ = load_dotenv(find_dotenv())  # read local .env file\n",
    "openai.api_key = os.environ['OPENAI_API_KEY_FOUR']\n",
    "# account for deprecation of LLM model\n",
    "\n",
    "# Get the current date\n",
    "current_date = datetime.datetime.now().date()\n",
    "\n",
    "# Define the date after which the model should be set to \"gpt-3.5-turbo\"\n",
    "target_date = datetime.date(2024, 6, 12)\n",
    "\n",
    "# Set the model variable based on the current date\n",
    "if current_date > target_date:\n",
    "    llm_model = \"gpt-3.5-turbo\"\n",
    "else:\n",
    "    llm_model = \"gpt-3.5-turbo-0301\"\n",
    "# print(openai.api_key)\n",
    "warnings.filterwarnings('ignore')\n"
   ],
   "metadata": {
    "collapsed": false,
    "ExecuteTime": {
     "end_time": "2023-11-24T12:43:48.275679783Z",
     "start_time": "2023-11-24T12:43:48.211432058Z"
    }
   },
   "id": "5eb73d38722c8fbf"
  },
  {
   "cell_type": "code",
   "execution_count": 14,
   "outputs": [
    {
     "data": {
      "text/plain": "                   Product                                             Review\n0     Queen Size Sheet Set  I ordered a king size set. My only criticism w...\n1   Waterproof Phone Pouch  I loved the waterproof sac, although the openi...\n2      Luxury Air Mattress  This mattress had a small hole in the top of i...\n3           Pillows Insert  This is the best throw pillow fillers on Amazo...\n4  Milk Frother Handheld\\n   I loved this product. But they only seem to l...",
      "text/html": "<div>\n<style scoped>\n    .dataframe tbody tr th:only-of-type {\n        vertical-align: middle;\n    }\n\n    .dataframe tbody tr th {\n        vertical-align: top;\n    }\n\n    .dataframe thead th {\n        text-align: right;\n    }\n</style>\n<table border=\"1\" class=\"dataframe\">\n  <thead>\n    <tr style=\"text-align: right;\">\n      <th></th>\n      <th>Product</th>\n      <th>Review</th>\n    </tr>\n  </thead>\n  <tbody>\n    <tr>\n      <th>0</th>\n      <td>Queen Size Sheet Set</td>\n      <td>I ordered a king size set. My only criticism w...</td>\n    </tr>\n    <tr>\n      <th>1</th>\n      <td>Waterproof Phone Pouch</td>\n      <td>I loved the waterproof sac, although the openi...</td>\n    </tr>\n    <tr>\n      <th>2</th>\n      <td>Luxury Air Mattress</td>\n      <td>This mattress had a small hole in the top of i...</td>\n    </tr>\n    <tr>\n      <th>3</th>\n      <td>Pillows Insert</td>\n      <td>This is the best throw pillow fillers on Amazo...</td>\n    </tr>\n    <tr>\n      <th>4</th>\n      <td>Milk Frother Handheld\\n</td>\n      <td>I loved this product. But they only seem to l...</td>\n    </tr>\n  </tbody>\n</table>\n</div>"
     },
     "execution_count": 14,
     "metadata": {},
     "output_type": "execute_result"
    }
   ],
   "source": [
    "df = pd.read_csv('data/Data.csv')\n",
    "df.head()"
   ],
   "metadata": {
    "collapsed": false,
    "ExecuteTime": {
     "end_time": "2023-11-24T12:08:36.489361705Z",
     "start_time": "2023-11-24T12:08:36.395629715Z"
    }
   },
   "id": "315bece2c8a10555"
  },
  {
   "cell_type": "markdown",
   "source": [
    "## LLMChain"
   ],
   "metadata": {
    "collapsed": false
   },
   "id": "7eee23823eef8b36"
  },
  {
   "cell_type": "markdown",
   "source": [],
   "metadata": {
    "collapsed": false
   },
   "id": "304b338944bf4491"
  },
  {
   "cell_type": "code",
   "execution_count": 16,
   "outputs": [],
   "source": [
    "llm = ChatOpenAI(temperature=0.9,\n",
    "                 model=llm_model)\n",
    "llm.openai_api_key = openai.api_key"
   ],
   "metadata": {
    "collapsed": false,
    "ExecuteTime": {
     "end_time": "2023-11-24T12:09:59.153692735Z",
     "start_time": "2023-11-24T12:09:59.102197456Z"
    }
   },
   "id": "c7e5312e498abd92"
  },
  {
   "cell_type": "code",
   "execution_count": 21,
   "outputs": [],
   "source": [
    "prompt = ChatPromptTemplate.from_template(\n",
    "    \"What is the best name to describe \\\n",
    "    a company that makes {product}? Just the name.\"\n",
    ")"
   ],
   "metadata": {
    "collapsed": false,
    "ExecuteTime": {
     "end_time": "2023-11-24T12:18:14.096472335Z",
     "start_time": "2023-11-24T12:18:14.016479128Z"
    }
   },
   "id": "7db05863f60e46e0"
  },
  {
   "cell_type": "code",
   "execution_count": 22,
   "outputs": [],
   "source": [
    "chain = LLMChain(\n",
    "    llm=llm,\n",
    "    prompt=prompt,    # Here we define to use above prompt\n",
    ")"
   ],
   "metadata": {
    "collapsed": false,
    "ExecuteTime": {
     "end_time": "2023-11-24T12:18:16.396204536Z",
     "start_time": "2023-11-24T12:18:16.361727888Z"
    }
   },
   "id": "879c56351a335264"
  },
  {
   "cell_type": "code",
   "execution_count": 23,
   "outputs": [
    {
     "data": {
      "text/plain": "'Royal Bedding.'"
     },
     "execution_count": 23,
     "metadata": {},
     "output_type": "execute_result"
    }
   ],
   "source": [
    "# Bellow we define product with whom we're going use prompt\n",
    "product = \"Queen Size Sheet Set\"\n",
    "chain.run(product)     "
   ],
   "metadata": {
    "collapsed": false,
    "ExecuteTime": {
     "end_time": "2023-11-24T12:18:19.447244955Z",
     "start_time": "2023-11-24T12:18:18.796018143Z"
    }
   },
   "id": "eda061c06294cc7c"
  },
  {
   "cell_type": "markdown",
   "source": [
    "## SimpleSequentialChain"
   ],
   "metadata": {
    "collapsed": false
   },
   "id": "1bdcc8d937b0dfe5"
  },
  {
   "cell_type": "code",
   "execution_count": 25,
   "outputs": [],
   "source": [
    "llm = ChatOpenAI(temperature=0.9, model=llm_model)\n",
    "llm.openai_api_key = openai.api_key\n",
    "# prompt template 1\n",
    "first_prompt = ChatPromptTemplate.from_template(\n",
    "    \"What is the best name to describe \\\n",
    "    a company that makes {product}?\"\n",
    ")\n",
    "\n",
    "# Chain 1\n",
    "chain_one = LLMChain(llm=llm, prompt=first_prompt)"
   ],
   "metadata": {
    "collapsed": false,
    "ExecuteTime": {
     "end_time": "2023-11-24T12:19:21.165823301Z",
     "start_time": "2023-11-24T12:19:21.119238473Z"
    }
   },
   "id": "f6b14cba3a13427"
  },
  {
   "cell_type": "code",
   "execution_count": 26,
   "outputs": [],
   "source": [
    "# prompt template 2\n",
    "second_prompt = ChatPromptTemplate.from_template(\n",
    "    \"Write a 20 words description for the following \\\n",
    "    company:{company_name}\"\n",
    ")\n",
    "# chain 2\n",
    "chain_two = LLMChain(llm=llm, prompt=second_prompt)"
   ],
   "metadata": {
    "collapsed": false,
    "ExecuteTime": {
     "end_time": "2023-11-24T12:19:41.756119152Z",
     "start_time": "2023-11-24T12:19:41.686154371Z"
    }
   },
   "id": "9d879ec977e1e09d"
  },
  {
   "cell_type": "code",
   "execution_count": 27,
   "outputs": [],
   "source": [
    "overall_simple_chain = SimpleSequentialChain(chains=[chain_one, chain_two],\n",
    "                                             verbose=True\n",
    "                                            )"
   ],
   "metadata": {
    "collapsed": false,
    "ExecuteTime": {
     "end_time": "2023-11-24T12:20:06.434805191Z",
     "start_time": "2023-11-24T12:20:06.392273602Z"
    }
   },
   "id": "257e6ced355f1fb1"
  },
  {
   "cell_type": "code",
   "execution_count": 28,
   "outputs": [
    {
     "name": "stdout",
     "output_type": "stream",
     "text": [
      "\n",
      "\n",
      "\u001B[1m> Entering new SimpleSequentialChain chain...\u001B[0m\n",
      "\u001B[36;1m\u001B[1;3m\"Royal Linens\"\u001B[0m\n",
      "\u001B[33;1m\u001B[1;3mRoyal Linens is a luxury home textile brand offering high-quality bedding, bath, and kitchen linens with elegant designs and superior comfort.\u001B[0m\n",
      "\n",
      "\u001B[1m> Finished chain.\u001B[0m\n"
     ]
    },
    {
     "data": {
      "text/plain": "'Royal Linens is a luxury home textile brand offering high-quality bedding, bath, and kitchen linens with elegant designs and superior comfort.'"
     },
     "execution_count": 28,
     "metadata": {},
     "output_type": "execute_result"
    }
   ],
   "source": [
    "overall_simple_chain.run(product)"
   ],
   "metadata": {
    "collapsed": false,
    "ExecuteTime": {
     "end_time": "2023-11-24T12:20:22.218464141Z",
     "start_time": "2023-11-24T12:20:19.287564095Z"
    }
   },
   "id": "d539bc11db1b2787"
  },
  {
   "cell_type": "code",
   "execution_count": null,
   "outputs": [],
   "source": [],
   "metadata": {
    "collapsed": false
   },
   "id": "878a8059cec30ee2"
  }
 ],
 "metadata": {
  "kernelspec": {
   "display_name": "Python 3",
   "language": "python",
   "name": "python3"
  },
  "language_info": {
   "codemirror_mode": {
    "name": "ipython",
    "version": 2
   },
   "file_extension": ".py",
   "mimetype": "text/x-python",
   "name": "python",
   "nbconvert_exporter": "python",
   "pygments_lexer": "ipython2",
   "version": "2.7.6"
  }
 },
 "nbformat": 4,
 "nbformat_minor": 5
}
